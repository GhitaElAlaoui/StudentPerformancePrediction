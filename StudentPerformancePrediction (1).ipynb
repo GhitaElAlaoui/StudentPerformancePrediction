{
 "cells": [
  {
   "cell_type": "code",
   "execution_count": null,
   "metadata": {},
   "outputs": [],
   "source": [
    "#Import libraries\n",
    "import numpy as np\n",
    "import pandas as pd\n",
    "import matplotlib.pyplot as plt\n",
    "import seaborn as sns"
   ]
  },
  {
   "cell_type": "code",
   "execution_count": null,
   "metadata": {
    "scrolled": true
   },
   "outputs": [],
   "source": [
    "%cd C:\\Users\\Ghitss\\Desktop\\students\n",
    "\n",
    "\n",
    "#import data\n",
    "matDataset = pd.read_csv('student-mat.csv',delimiter =';')\n",
    "porDataset =pd.read_csv('student-por.csv',delimiter =';')"
   ]
  },
  {
   "cell_type": "markdown",
   "metadata": {},
   "source": [
    "# Exploratory Data Analysis"
   ]
  },
  {
   "cell_type": "code",
   "execution_count": null,
   "metadata": {},
   "outputs": [],
   "source": [
    "print('Dimensionality of maths Dataset:{}'.format(matDataset.shape))\n",
    "print('Dimensionality of portuguese Dataset:{}'.format(porDataset.shape))\n"
   ]
  },
  {
   "cell_type": "code",
   "execution_count": null,
   "metadata": {},
   "outputs": [],
   "source": [
    "matDataset.head()"
   ]
  },
  {
   "cell_type": "code",
   "execution_count": null,
   "metadata": {},
   "outputs": [],
   "source": [
    "porDataset.head()"
   ]
  },
  {
   "cell_type": "code",
   "execution_count": null,
   "metadata": {
    "scrolled": true
   },
   "outputs": [],
   "source": [
    "matDataset.info()"
   ]
  },
  {
   "cell_type": "code",
   "execution_count": null,
   "metadata": {},
   "outputs": [],
   "source": [
    "porDataset.info()"
   ]
  },
  {
   "cell_type": "code",
   "execution_count": null,
   "metadata": {},
   "outputs": [],
   "source": [
    "fig = plt.figure(figsize=(14,5))\n",
    "plt.style.use('seaborn-white')\n",
    "ax1 = plt.subplot(121)\n",
    "plt.hist([matDataset['G1'], matDataset['G2'], matDataset['G3']], label=['G1', 'G2', 'G3'], color=['#FFCD42', '#43BAB2', '#C22F47' ], alpha=0.8)\n",
    "plt.legend(fontsize=14)\n",
    "plt.xlabel('Grade', fontsize=18)\n",
    "plt.ylabel('Count', fontsize=18)\n",
    "plt.title('Grades for Maths Class', fontsize=20)\n",
    "ax1.spines['top'].set_visible(False)\n",
    "ax1.spines['right'].set_visible(False)\n",
    "plt.ylim(0,220)\n",
    "\n",
    "ax2 = plt.subplot(122)\n",
    "plt.hist([porDataset['G1'], porDataset['G2'], porDataset['G3']], label=['G1', 'G2', 'G3'], color=['#FFCD42', '#43BAB2', '#C22F47' ], alpha=0.8)\n",
    "plt.legend(fontsize=14)\n",
    "plt.xlabel('Grade', fontsize=18)\n",
    "plt.ylabel('Count', fontsize=18)\n",
    "plt.title('Grades for Portuguese Class', fontsize=20)\n",
    "ax2.spines['top'].set_visible(False)\n",
    "ax2.spines['right'].set_visible(False)\n",
    "plt.ylim(0,220)\n",
    "\n",
    "plt.show()"
   ]
  },
  {
   "cell_type": "raw",
   "metadata": {},
   "source": [
    "We can see here that G1, G2 and G3 have similar distribution shapes. We can use the final grade G3 to represent the students' performance. We can plot the distribution of the final grades for both the maths and portuguese datasets:"
   ]
  },
  {
   "cell_type": "code",
   "execution_count": null,
   "metadata": {},
   "outputs": [],
   "source": [
    "import seaborn as sns\n",
    "#plt.hist(matDataset['G3'],bins = 14, color='#43BAB2')\n",
    "#plt.xlabel('Grade')\n",
    "#plt.ylabel('Count')\n",
    "#plt.title('Distribution of Final Grades')\n",
    "\n",
    "b = sns.countplot(matDataset['G3'])\n",
    "b.axes.set_title('Distribution of Final Maths Grades', fontsize = 20)\n",
    "b.set_xlabel('Final Grade', fontsize = 10)\n",
    "b.set_ylabel('Count', fontsize = 10)\n",
    "plt.show()"
   ]
  },
  {
   "cell_type": "code",
   "execution_count": null,
   "metadata": {},
   "outputs": [],
   "source": [
    "#plt.hist(porDataset['G3'], bins = 14,color='#C22F47')\n",
    "#plt.xlabel('Grade')\n",
    "#plt.ylabel('Count')\n",
    "#plt.title('Distribution of Final Grades')\n",
    "b = sns.countplot(porDataset['G3'])\n",
    "b.axes.set_title('Distribution of Final Portuguese Grades ', fontsize = 20)\n",
    "b.set_xlabel('Final Grade', fontsize = 10)\n",
    "b.set_ylabel('Count', fontsize = 10)\n",
    "plt.show()"
   ]
  },
  {
   "cell_type": "code",
   "execution_count": null,
   "metadata": {},
   "outputs": [],
   "source": [
    "matDataset['G3'].describe()"
   ]
  },
  {
   "cell_type": "code",
   "execution_count": null,
   "metadata": {},
   "outputs": [],
   "source": [
    "porDataset['G3'].describe()"
   ]
  },
  {
   "cell_type": "code",
   "execution_count": null,
   "metadata": {},
   "outputs": [],
   "source": [
    "#Male/Female students (Maths Dataset)\n",
    "male_students = len(matDataset[matDataset['sex'] == 'M'])\n",
    "female_students = len(matDataset[matDataset['sex'] == 'F'])\n",
    "print('Number of male students:',male_students)\n",
    "print('Number of female students:',female_students)"
   ]
  },
  {
   "cell_type": "code",
   "execution_count": null,
   "metadata": {},
   "outputs": [],
   "source": [
    "#Male/Female students (Portuguese Dataset)\n",
    "male_students = len(porDataset[porDataset['sex'] == 'M'])\n",
    "female_students = len(porDataset[porDataset['sex'] == 'F'])\n",
    "print('Number of male students:',male_students)\n",
    "print('Number of female students:',female_students)"
   ]
  },
  {
   "cell_type": "code",
   "execution_count": null,
   "metadata": {},
   "outputs": [],
   "source": [
    "# Maths Grade distribution by address\n",
    "sns.kdeplot(matDataset.loc[matDataset['address'] == 'U', 'G3'], label='Urban', shade = True, color ='#43BAB2')\n",
    "sns.kdeplot(matDataset.loc[matDataset['address'] == 'R', 'G3'], label='Rural', shade = True, color ='#FFCD42')\n",
    "plt.title('Urban/Rural Grades Distribution', fontsize = 20)\n",
    "plt.xlabel('Grade', fontsize = 10);\n",
    "plt.ylabel('Density', fontsize = 10)\n",
    "plt.show()"
   ]
  },
  {
   "cell_type": "code",
   "execution_count": null,
   "metadata": {},
   "outputs": [],
   "source": [
    "# Portuguese Grade distribution by address\n",
    "sns.kdeplot(porDataset.loc[porDataset['address'] == 'U', 'G3'], label='Urban', shade = True, color ='#43BAB2')\n",
    "sns.kdeplot(porDataset.loc[porDataset['address'] == 'R', 'G3'], label='Rural', shade = True, color ='#FFCD42')\n",
    "plt.title('Urban/Rural Grades Distribution', fontsize = 20)\n",
    "plt.xlabel('Grade', fontsize = 10);\n",
    "plt.ylabel('Density', fontsize = 10)\n",
    "plt.show()"
   ]
  },
  {
   "cell_type": "code",
   "execution_count": null,
   "metadata": {},
   "outputs": [],
   "source": [
    "# Maths Grade distribution by family size\n",
    "sns.kdeplot(matDataset.loc[matDataset['famsize'] == 'LE3', 'G3'], label='Less or equal to 3', shade = True, color ='#43BAB2')\n",
    "sns.kdeplot(matDataset.loc[matDataset['famsize'] == 'GT3', 'G3'], label='Greater than 3', shade = True, color ='#FFCD42')\n",
    "plt.title('Grades Distribution by Family Size', fontsize = 20)\n",
    "plt.xlabel('Grade', fontsize = 10);\n",
    "plt.ylabel('Density', fontsize = 10)\n",
    "plt.show()"
   ]
  },
  {
   "cell_type": "code",
   "execution_count": null,
   "metadata": {},
   "outputs": [],
   "source": [
    "# Portuguese Grade distribution by family size\n",
    "sns.kdeplot(porDataset.loc[porDataset['famsize'] == 'LE3', 'G3'], label='Less or equal to 3', shade = True, color ='#43BAB2')\n",
    "sns.kdeplot(porDataset.loc[porDataset['famsize'] == 'GT3', 'G3'], label='Greater than 3', shade = True, color ='#FFCD42')\n",
    "plt.title('Grades Distribution by Family Size', fontsize = 20)\n",
    "plt.xlabel('Grade', fontsize = 10);\n",
    "plt.ylabel('Density', fontsize = 10)\n",
    "plt.show()"
   ]
  },
  {
   "cell_type": "code",
   "execution_count": null,
   "metadata": {},
   "outputs": [],
   "source": [
    "# Maths Grade distribution by parents cohabitation status\n",
    "sns.kdeplot(matDataset.loc[matDataset['Pstatus'] == 'T', 'G3'], label='Parents living together', shade = True, color ='#43BAB2')\n",
    "sns.kdeplot(matDataset.loc[matDataset['Pstatus'] == 'A', 'G3'], label='Parents apart', shade = True, color ='#FFCD42')\n",
    "plt.title('Grades Distribution by Parents Cohabitation Status', fontsize = 20)\n",
    "plt.xlabel('Grade', fontsize = 10);\n",
    "plt.ylabel('Density', fontsize = 10)\n",
    "plt.show()"
   ]
  },
  {
   "cell_type": "code",
   "execution_count": null,
   "metadata": {},
   "outputs": [],
   "source": [
    "# Portuguese Grade distribution by parents cohabitation status\n",
    "sns.kdeplot(porDataset.loc[porDataset['Pstatus'] == 'T', 'G3'], label='Parents living together', shade = True, color ='#43BAB2')\n",
    "sns.kdeplot(porDataset.loc[porDataset['Pstatus'] == 'A', 'G3'], label='Parents apart', shade = True, color ='#FFCD42')\n",
    "plt.title('Grades Distribution by Parents Cohabitation Status', fontsize = 20)\n",
    "plt.xlabel('Grade', fontsize = 10);\n",
    "plt.ylabel('Density', fontsize = 10)\n",
    "plt.show()"
   ]
  },
  {
   "cell_type": "code",
   "execution_count": null,
   "metadata": {},
   "outputs": [],
   "source": [
    "# Maths Grade distribution by extra educational support\n",
    "sns.kdeplot(matDataset.loc[matDataset['schoolsup'] == 'yes', 'G3'], label='Extra educational support', shade = True, color ='#43BAB2')\n",
    "sns.kdeplot(matDataset.loc[matDataset['schoolsup'] == 'no', 'G3'], label='No extra educ. support', shade = True, color ='#FFCD42')\n",
    "plt.title('Grades Distribution by extra educational support', fontsize = 20)\n",
    "plt.xlabel('Grade', fontsize = 10);\n",
    "plt.ylabel('Density', fontsize = 10)\n",
    "plt.show()"
   ]
  },
  {
   "cell_type": "code",
   "execution_count": null,
   "metadata": {},
   "outputs": [],
   "source": [
    "# Portuguese Grade distribution by extra educational support\n",
    "sns.kdeplot(porDataset.loc[porDataset['schoolsup'] == 'yes', 'G3'], label='Extra educational support', shade = True, color ='#43BAB2')\n",
    "sns.kdeplot(porDataset.loc[porDataset['schoolsup'] == 'no', 'G3'], label='No extra educ. support', shade = True, color ='#FFCD42')\n",
    "plt.title('Grades Distribution by extra educational support', fontsize = 20)\n",
    "plt.xlabel('Grade', fontsize = 10);\n",
    "plt.ylabel('Density', fontsize = 10)\n",
    "plt.show()"
   ]
  },
  {
   "cell_type": "code",
   "execution_count": null,
   "metadata": {},
   "outputs": [],
   "source": [
    "# Maths Grade distribution by family educational support\n",
    "sns.kdeplot(matDataset.loc[matDataset['famsup'] == 'yes', 'G3'], label='Family educational support', shade = True, color ='#43BAB2')\n",
    "sns.kdeplot(matDataset.loc[matDataset['famsup'] == 'no', 'G3'], label='No family educ. support', shade = True, color ='#FFCD42')\n",
    "plt.title('Grades Distribution by family educational support', fontsize = 20)\n",
    "plt.xlabel('Grade', fontsize = 10);\n",
    "plt.ylabel('Density', fontsize = 10)\n",
    "plt.show()"
   ]
  },
  {
   "cell_type": "code",
   "execution_count": null,
   "metadata": {},
   "outputs": [],
   "source": [
    "# Portuguese Grade distribution by family educational support\n",
    "sns.kdeplot(porDataset.loc[porDataset['famsup'] == 'yes', 'G3'], label='Family educational support', shade = True, color ='#43BAB2')\n",
    "sns.kdeplot(porDataset.loc[porDataset['famsup'] == 'no', 'G3'], label='No family educ. support', shade = True, color ='#FFCD42')\n",
    "plt.title('Grades Distribution by family educational support', fontsize = 20)\n",
    "plt.xlabel('Grade', fontsize = 10);\n",
    "plt.ylabel('Density', fontsize = 10)\n",
    "plt.show()"
   ]
  },
  {
   "cell_type": "code",
   "execution_count": null,
   "metadata": {},
   "outputs": [],
   "source": [
    "# Maths Grade distribution by relationship status\n",
    "sns.kdeplot(matDataset.loc[matDataset['romantic'] == 'yes', 'G3'], label='in relationship', shade = True, color ='#43BAB2')\n",
    "sns.kdeplot(matDataset.loc[matDataset['romantic'] == 'no', 'G3'], label='single', shade = True, color ='#FFCD42')\n",
    "plt.title('Grades Distribution by relationship status', fontsize = 20)\n",
    "plt.xlabel('Grade', fontsize = 10);\n",
    "plt.ylabel('Density', fontsize = 10)\n",
    "plt.show()"
   ]
  },
  {
   "cell_type": "code",
   "execution_count": null,
   "metadata": {},
   "outputs": [],
   "source": [
    "# Portuguese Grade distribution by relationship status\n",
    "sns.kdeplot(porDataset.loc[porDataset['romantic'] == 'yes', 'G3'], label='in relationship', shade = True, color ='#43BAB2')\n",
    "sns.kdeplot(porDataset.loc[porDataset['romantic'] == 'no', 'G3'], label='single', shade = True, color ='#FFCD42')\n",
    "plt.title('Grades Distribution by relationship status', fontsize = 20)\n",
    "plt.xlabel('Grade', fontsize = 10);\n",
    "plt.ylabel('Density', fontsize = 10)\n",
    "plt.show()"
   ]
  },
  {
   "cell_type": "code",
   "execution_count": null,
   "metadata": {},
   "outputs": [],
   "source": [
    "# Maths Grade distribution by internet access at home\n",
    "sns.kdeplot(matDataset.loc[matDataset['internet'] == 'yes', 'G3'], label='Internet access ', shade = True, color ='#43BAB2')\n",
    "sns.kdeplot(matDataset.loc[matDataset['internet'] == 'no', 'G3'], label='No Internet access', shade = True, color ='#FFCD42')\n",
    "plt.title('Grades Distribution by internet access at home', fontsize = 20)\n",
    "plt.xlabel('Grade', fontsize = 10);\n",
    "plt.ylabel('Density', fontsize = 10)\n",
    "plt.show()"
   ]
  },
  {
   "cell_type": "code",
   "execution_count": null,
   "metadata": {},
   "outputs": [],
   "source": [
    "#Portuguese Grade distribution by internet access at home\n",
    "sns.kdeplot(porDataset.loc[porDataset['internet'] == 'yes', 'G3'], label='Internet access ', shade = True, color ='#43BAB2')\n",
    "sns.kdeplot(porDataset.loc[porDataset['internet'] == 'no', 'G3'], label='No Internet access', shade = True, color ='#FFCD42')\n",
    "plt.title('Grades Distribution by internet access at home', fontsize = 20)\n",
    "plt.xlabel('Grade', fontsize = 10);\n",
    "plt.ylabel('Density', fontsize = 10)\n",
    "plt.show()"
   ]
  },
  {
   "cell_type": "code",
   "execution_count": null,
   "metadata": {},
   "outputs": [],
   "source": [
    "# Maths Grade distribution by will to take higher education\n",
    "sns.kdeplot(matDataset.loc[matDataset['higher'] == 'yes', 'G3'], label='wants to take higher ed', shade = True, color ='#43BAB2')\n",
    "sns.kdeplot(matDataset.loc[matDataset['higher'] == 'no', 'G3'], label='doesnt want to take higher ed', shade = True, color ='#FFCD42')\n",
    "plt.title('Grades Distribution by higher education will', fontsize = 20)\n",
    "plt.xlabel('Grade', fontsize = 10);\n",
    "plt.ylabel('Density', fontsize = 10)\n",
    "plt.show()"
   ]
  },
  {
   "cell_type": "code",
   "execution_count": null,
   "metadata": {},
   "outputs": [],
   "source": [
    "matDataset.corr()['G3'].sort_values()"
   ]
  },
  {
   "cell_type": "code",
   "execution_count": null,
   "metadata": {},
   "outputs": [],
   "source": [
    "porDataset.corr()['G3'].sort_values()"
   ]
  },
  {
   "cell_type": "code",
   "execution_count": null,
   "metadata": {},
   "outputs": [],
   "source": [
    "mcategorical = matDataset.select_dtypes(include=['object'])\n",
    "matdummies = pd.get_dummies(mcategorical)\n",
    "matdummies['G3'] = matDataset['G3']\n",
    "\n",
    "pcategorical = porDataset.select_dtypes(include=['object'])\n",
    "pordummies = pd.get_dummies(pcategorical)\n",
    "pordummies['G3'] = porDataset['G3']\n",
    "\n",
    "matdummies.head()\n",
    "#pordummies.head()"
   ]
  },
  {
   "cell_type": "code",
   "execution_count": null,
   "metadata": {},
   "outputs": [],
   "source": [
    "matdummies.corr()['G3'].sort_values()"
   ]
  },
  {
   "cell_type": "code",
   "execution_count": null,
   "metadata": {},
   "outputs": [],
   "source": [
    "pordummies.corr()['G3'].sort_values()"
   ]
  },
  {
   "cell_type": "code",
   "execution_count": null,
   "metadata": {},
   "outputs": [],
   "source": [
    "#drop the school and G1, G2 columns\n",
    "matstud = matDataset.drop(['school','G1','G2'], axis = 'columns')\n",
    "porstud = porDataset.drop(['school','G1','G2'], axis = 'columns')\n",
    "\n",
    "#OneHot Encoding of categorical variables\n",
    "matstud = pd.get_dummies(matstud)\n",
    "porstud = pd.get_dummies(porstud)"
   ]
  },
  {
   "cell_type": "code",
   "execution_count": null,
   "metadata": {},
   "outputs": [],
   "source": [
    "matstud = matstud.drop(['higher_no', 'romantic_yes'], axis = 'columns')\n",
    "porstud = porstud.drop(['higher_no','romantic_yes'], axis = 'columns')"
   ]
  },
  {
   "cell_type": "code",
   "execution_count": null,
   "metadata": {},
   "outputs": [],
   "source": [
    "#Find correlations with the maths Final Grade G3 \n",
    "most_cor_m = matstud.corr().abs()['G3'].sort_values(ascending = False)\n",
    "#8 most correlated features with G3\n",
    "most_cor_m = most_cor_m[:9]\n",
    "most_cor_m"
   ]
  },
  {
   "cell_type": "markdown",
   "metadata": {},
   "source": [
    "We can see that the top most correlation features with the final grade are the number of past class failures, the mother's education, if the student wants to pursue higher education or not, the age, the father's education, going out with friends and whether the student is in a romantic relationship or not."
   ]
  },
  {
   "cell_type": "code",
   "execution_count": null,
   "metadata": {},
   "outputs": [],
   "source": [
    "#Find correlations with the portuguese Final Grade G3 \n",
    "most_cor_p = porstud.corr().abs()['G3'].sort_values(ascending = False)\n",
    "#8 most correlated features with G3\n",
    "most_cor_p = most_cor_p[:9]\n",
    "most_cor_p"
   ]
  },
  {
   "cell_type": "markdown",
   "metadata": {},
   "source": [
    "For portuguese, the most correlated features to the final grade are the number of failures, if the student wants to pursue higher education or not, the study time, parents' education and workday alcohol consumption."
   ]
  },
  {
   "cell_type": "code",
   "execution_count": null,
   "metadata": {},
   "outputs": [],
   "source": [
    "#We will only be using the most correlated features to G3\n",
    "matstud = matstud.loc[:,most_cor_m.index]\n",
    "matstud.head()"
   ]
  },
  {
   "cell_type": "code",
   "execution_count": null,
   "metadata": {
    "scrolled": true
   },
   "outputs": [],
   "source": [
    "porstud = porstud.loc[:,most_cor_p.index]\n",
    "porstud.head()"
   ]
  },
  {
   "cell_type": "code",
   "execution_count": null,
   "metadata": {},
   "outputs": [],
   "source": [
    "#Plot swarmplot\n",
    "b = sns.swarmplot(x=matstud['failures'],y=matstud['G3'])\n",
    "b.axes.set_title('Students Maths Grades by Number of Failures', fontsize = 15)\n",
    "b.set_xlabel('Number of failures', fontsize = 10)\n",
    "b.set_ylabel('Final Grade', fontsize = 10)\n",
    "plt.show()"
   ]
  },
  {
   "cell_type": "code",
   "execution_count": null,
   "metadata": {},
   "outputs": [],
   "source": [
    "b = sns.swarmplot(x=porstud['failures'],y=porstud['G3'])\n",
    "b.axes.set_title('Students Portuguese Grades by Number of Failures', fontsize = 15)\n",
    "b.set_xlabel('Number of failures', fontsize = 10)\n",
    "b.set_ylabel('Final Grade', fontsize = 10)\n",
    "plt.show()"
   ]
  },
  {
   "cell_type": "code",
   "execution_count": null,
   "metadata": {},
   "outputs": [],
   "source": [
    "#Plot swarmplot\n",
    "famedu = matstud['Fedu']+ matstud['Medu']\n",
    "b = sns.swarmplot(x=famedu,y=matstud['G3'])\n",
    "b.axes.set_title('Maths Grades by Family Education', fontsize = 15)\n",
    "b.set_xlabel('Family education (Mother & Father)', fontsize = 10)\n",
    "b.set_ylabel('Final Grade', fontsize = 10)\n",
    "plt.show()"
   ]
  },
  {
   "cell_type": "code",
   "execution_count": null,
   "metadata": {},
   "outputs": [],
   "source": [
    "#Plot swarmplot\n",
    "famedu = porstud['Fedu']+ porstud['Medu']\n",
    "b = sns.swarmplot(x=famedu,y=porstud['G3'])\n",
    "b.axes.set_title('Portuguese Grades by Family Education', fontsize = 15)\n",
    "b.set_xlabel('Family education (Mother & Father)', fontsize = 10)\n",
    "b.set_ylabel('Final Grade', fontsize = 10)\n",
    "plt.show()"
   ]
  },
  {
   "cell_type": "code",
   "execution_count": null,
   "metadata": {},
   "outputs": [],
   "source": [
    "#Plot swarmplot\n",
    "b = sns.swarmplot(x=matstud['higher_yes'],y=matstud['G3'])\n",
    "b.axes.set_title('Maths Grades/ Wish to go for higher education or not', fontsize = 15)\n",
    "b.set_xlabel('Higher education (1 = Yes, 0 = No)', fontsize = 10)\n",
    "b.set_ylabel('Final Grade', fontsize = 10)\n",
    "plt.show()"
   ]
  },
  {
   "cell_type": "code",
   "execution_count": null,
   "metadata": {},
   "outputs": [],
   "source": [
    "#Plot swarmplot\n",
    "b = sns.swarmplot(x=porstud['higher_yes'],y=porstud['G3'])\n",
    "b.axes.set_title('Portuguese Grades/ Wish to go for higher education or not', fontsize = 15)\n",
    "b.set_xlabel('Higher education (1 = Yes, 0 = No)', fontsize = 10)\n",
    "b.set_ylabel('Final Grade', fontsize = 10)\n",
    "plt.show()"
   ]
  },
  {
   "cell_type": "code",
   "execution_count": null,
   "metadata": {},
   "outputs": [],
   "source": [
    "#Plot swarmplot\n",
    "b = sns.swarmplot(x=porstud['studytime'],y=porstud['G3'])\n",
    "b.axes.set_title('Portuguese Grades by Study Time', fontsize = 15)\n",
    "b.set_xlabel('Study time', fontsize = 10)\n",
    "b.set_ylabel('Final Grade', fontsize = 10)\n",
    "plt.show()"
   ]
  },
  {
   "cell_type": "markdown",
   "metadata": {},
   "source": [
    "# Linear Regression"
   ]
  },
  {
   "cell_type": "markdown",
   "metadata": {},
   "source": [
    "Splitting the data into training and testing datasets"
   ]
  },
  {
   "cell_type": "code",
   "execution_count": null,
   "metadata": {},
   "outputs": [],
   "source": [
    "from sklearn.model_selection import train_test_split\n",
    "\n",
    "#Create a training dataset (80%), and a testing dataset(20%)\n",
    "#For the matDataset\n",
    "mtrain, mtest = train_test_split(matstud, test_size=0.2)\n",
    "#For the porDataset\n",
    "ptrain, ptest = train_test_split(porstud, test_size=0.2)"
   ]
  },
  {
   "cell_type": "code",
   "execution_count": null,
   "metadata": {},
   "outputs": [],
   "source": [
    "mtrain.head()\n",
    "#ptrain.head()"
   ]
  },
  {
   "cell_type": "code",
   "execution_count": null,
   "metadata": {},
   "outputs": [],
   "source": [
    "#Separate the predictors from the target variable y for the training datasets\n",
    "mtrain_x=mtrain.drop(['G3'], axis=1)\n",
    "mtrain_y=mtrain['G3']\n",
    "ptrain_x=ptrain.drop(['G3'], axis=1)\n",
    "ptrain_y=ptrain['G3']\n",
    "#Separate the predictors from the target variable y for the testing datasets\n",
    "mtest_x=mtest.drop(['G3'], axis=1)\n",
    "mtest_y=mtest['G3']\n",
    "ptest_x=ptest.drop([ 'G3'], axis=1)\n",
    "ptest_y=ptest['G3']"
   ]
  },
  {
   "cell_type": "code",
   "execution_count": null,
   "metadata": {},
   "outputs": [],
   "source": [
    "from sklearn import datasets, linear_model\n",
    "from sklearn.metrics import mean_squared_error, r2_score\n",
    "\n",
    "reg = LinearRegression()\n",
    "reg.fit(mtrain_x, mtrain_y)\n",
    "mpred = reg.predict(mtest_x)\n",
    "print('Coefficients:\\n', reg.coef_)\n",
    "print('Mean squared error: %.2f'%mean_squared_error(mtest_y, mpred))\n",
    "print('Coefficient of determination: %.2f'%r2_score(mtest_y, mpred))\n",
    "\n"
   ]
  },
  {
   "cell_type": "code",
   "execution_count": null,
   "metadata": {},
   "outputs": [],
   "source": [
    "coeff = pd.DataFrame(reg.coef_,mtrain_x.columns, columns = ['Coefficient'])\n",
    "coeff"
   ]
  },
  {
   "cell_type": "code",
   "execution_count": null,
   "metadata": {},
   "outputs": [],
   "source": [
    "intercept = reg.intercept_\n",
    "print('The intercept of the slope is:',intercept)"
   ]
  },
  {
   "cell_type": "code",
   "execution_count": null,
   "metadata": {},
   "outputs": [],
   "source": [
    "regr= pd.DataFrame({'Actual': mtest_y, 'Predicted': mpred})\n",
    "regr"
   ]
  },
  {
   "cell_type": "code",
   "execution_count": null,
   "metadata": {},
   "outputs": [],
   "source": [
    "df = regr.head(30)\n",
    "df.plot(kind='bar',figsize=(15,10))\n",
    "plt.grid(which='major', linestyle='-', linewidth='0.5', color='green')\n",
    "plt.grid(which='minor', linestyle=':', linewidth='0.5', color='black')\n",
    "plt.show()"
   ]
  },
  {
   "cell_type": "code",
   "execution_count": null,
   "metadata": {},
   "outputs": [],
   "source": [
    "print('Mean Absolute Error:', metrics.mean_absolute_error(mtest_y, mpred))  \n",
    "print('Mean Squared Error:', metrics.mean_squared_error(mtest_y, mpred))  \n",
    "print('Root Mean Squared Error:', np.sqrt(metrics.mean_squared_error(mtest_y, mpred)))"
   ]
  },
  {
   "cell_type": "code",
   "execution_count": null,
   "metadata": {},
   "outputs": [],
   "source": [
    "## Maths Dataset\n",
    "mat=matDataset.copy()\n",
    "#Convert the yes/no or binary variables values into 0 and 1s\n",
    "mat.school = mat['school'].replace(['GP','MS'],[1,0])\n",
    "mat.sex = mat['sex'].replace(['F','M'],[1,0])\n",
    "mat.address = mat['address'].replace(['U','R'],[1,0])\n",
    "mat.famsize = mat['famsize'].replace(['LE3','GT3'],[1,0])\n",
    "mat.Pstatus = mat['Pstatus'].replace(['T','A'],[1,0])\n",
    "mat.schoolsup = mat['schoolsup'].replace(['yes','no'],[1,0])\n",
    "mat.famsup = mat['famsup'].replace(['yes','no'],[1,0])\n",
    "mat.paid = mat['paid'].replace(['yes','no'],[1,0])\n",
    "mat.activities = mat['activities'].replace(['yes','no'],[1,0])\n",
    "mat.nursery = mat['nursery'].replace(['yes','no'],[1,0])\n",
    "mat.higher = mat['higher'].replace(['yes','no'],[1,0])\n",
    "mat.internet = mat['internet'].replace(['yes','no'],[1,0])\n",
    "mat.romantic = mat['romantic'].replace(['yes','no'],[1,0])\n",
    "#Convert nominal variables to dummy variables\n",
    "nominals =['Fjob','Mjob','reason','guardian']\n",
    "mat = pd.get_dummies(mat, columns = nominals, drop_first =False)\n",
    "mat.head()"
   ]
  },
  {
   "cell_type": "code",
   "execution_count": null,
   "metadata": {},
   "outputs": [],
   "source": [
    "## Portuguese Dataset\n",
    "por=porDataset.copy()\n",
    "#Convert the yes/no or binary variables values into 0 and 1s\n",
    "por.school = por['school'].replace(['GP','MS'],[1,0])\n",
    "por.sex = por['sex'].replace(['F','M'],[1,0])\n",
    "por.address = por['address'].replace(['U','R'],[1,0])\n",
    "por.famsize = por['famsize'].replace(['LE3','GT3'],[1,0])\n",
    "por.Pstatus = por['Pstatus'].replace(['T','A'],[1,0])\n",
    "por.schoolsup = por['schoolsup'].replace(['yes','no'],[1,0])\n",
    "por.famsup = por['famsup'].replace(['yes','no'],[1,0])\n",
    "por.paid = por['paid'].replace(['yes','no'],[1,0])\n",
    "por.activities = por['activities'].replace(['yes','no'],[1,0])\n",
    "por.nursery = por['nursery'].replace(['yes','no'],[1,0])\n",
    "por.higher = por['higher'].replace(['yes','no'],[1,0])\n",
    "por.internet = por['internet'].replace(['yes','no'],[1,0])\n",
    "por.romantic = por['romantic'].replace(['yes','no'],[1,0])\n",
    "#Convert nominal variables to dummy variables\n",
    "nominals =['Fjob','Mjob','reason','guardian']\n",
    "por = pd.get_dummies(por, columns = nominals, drop_first =False)\n",
    "por.head()"
   ]
  },
  {
   "cell_type": "code",
   "execution_count": null,
   "metadata": {},
   "outputs": [],
   "source": [
    "from sklearn.model_selection import train_test_split\n",
    "\n",
    "#Create a training dataset (80%), and a testing dataset(20%)\n",
    "#For the matDataset\n",
    "mtrain, mtest = train_test_split(mat, test_size=0.2)\n",
    "#For the porDataset\n",
    "ptrain, ptest = train_test_split(por, test_size=0.2)"
   ]
  },
  {
   "cell_type": "code",
   "execution_count": null,
   "metadata": {},
   "outputs": [],
   "source": [
    "print('Dimensionality of mtrain:{}'.format(mtrain.shape))\n",
    "print('Dimensionality of mtest:{}'.format(mtest.shape))\n",
    "\n",
    "print('Dimensionality of ptrain:{}'.format(ptrain.shape))\n",
    "print('Dimensionality of ptest:{}'.format(ptest.shape))"
   ]
  },
  {
   "cell_type": "code",
   "execution_count": null,
   "metadata": {},
   "outputs": [],
   "source": [
    "from sklearn.model_selection import train_test_split\n",
    "\n",
    "#Create a training dataset (80%), and a testing dataset(20%)\n",
    "#For the matDataset\n",
    "mat_train, mat_test = train_test_split(matDataset, test_size=0.2)\n",
    "#For the porDataset\n",
    "por_train, por_test = train_test_split(porDataset, test_size=0.2)"
   ]
  },
  {
   "cell_type": "code",
   "execution_count": null,
   "metadata": {
    "scrolled": true
   },
   "outputs": [],
   "source": [
    "print('Dimensionality of mat_train:{}'.format(mat_train.shape))\n",
    "print('Dimensionality of mat_test:{}'.format(mat_test.shape))\n",
    "\n",
    "print('Dimensionality of por_train:{}'.format(por_train.shape))\n",
    "print('Dimensionality of por_test:{}'.format(por_test.shape))"
   ]
  },
  {
   "cell_type": "code",
   "execution_count": null,
   "metadata": {},
   "outputs": [],
   "source": [
    "mtrain.describe()\n",
    "#ptrain.describe()"
   ]
  },
  {
   "cell_type": "code",
   "execution_count": null,
   "metadata": {},
   "outputs": [],
   "source": [
    "#Separate the predictors from the target variable y for the training datasets\n",
    "mtrain_x=mtrain.drop(['G1', 'G2', 'G3'], axis=1)\n",
    "mtrain_y=mtrain['G3']\n",
    "ptrain_x=ptrain.drop(['G1', 'G2', 'G3'], axis=1)\n",
    "ptrain_y=ptrain['G3']\n",
    "#Separate the predictors from the target variable y for the testing datasets\n",
    "mtest_x=mtest.drop(['G1', 'G2', 'G3'], axis=1)\n",
    "mtest_y=mtest['G3']\n",
    "ptest_x=ptest.drop(['G1', 'G2', 'G3'], axis=1)\n",
    "ptest_y=ptest['G3']"
   ]
  },
  {
   "cell_type": "code",
   "execution_count": null,
   "metadata": {},
   "outputs": [],
   "source": [
    "from sklearn.ensemble import RandomForestRegressor\n",
    "from sklearn.model_selection import GridSearchCV\n",
    "def randomforest (X_train, y_train, X_test, y_test):\n",
    "    param_grid = {'max_depth': range(1,20)}\n",
    "    grid = GridSearchCV(RandomForestRegressor(), param_grid, cv=5)\n",
    "    grid.fit(X_train, y_train)\n",
    "    print ('Best cross validation score: {:.2f}'.format(grid.best_score_))\n",
    "    print ('Best parameters:', grid.best_params_)\n",
    "    print ('Test score:', grid.score(X_test, y_test))"
   ]
  },
  {
   "cell_type": "code",
   "execution_count": null,
   "metadata": {},
   "outputs": [],
   "source": [
    "#Apply randomforest on Maths dataset\n",
    "randomforest(mtrain_x,mtrain_y,mtest_x,mtest_y)"
   ]
  },
  {
   "cell_type": "code",
   "execution_count": null,
   "metadata": {},
   "outputs": [],
   "source": [
    "#Apply randomforest on Portuguese dataset\n",
    "randomforest(ptrain_x,ptrain_y,ptest_x,ptest_y)"
   ]
  },
  {
   "cell_type": "code",
   "execution_count": null,
   "metadata": {},
   "outputs": [],
   "source": [
    "\n",
    "def plot_feature_importances_m(model):\n",
    "    n_features = mat.drop(['G1', 'G2', 'G3'], axis=1).shape[1]\n",
    "    plt.barh(range(n_features), model.feature_importances_, align='center', color='#48D1CC')\n",
    "    plt.yticks(np.arange(n_features), mat.columns)\n",
    "    plt.xlabel(\"Feature importance\")\n",
    "    plt.ylabel(\"Feature\")\n",
    "    plt.ylim(-1, n_features)\n",
    "    plt.title(\"Math\")\n",
    "    \n",
    "def plot_feature_importances_p(model):\n",
    "    n_features = por.drop(['G1', 'G2', 'G3'], axis=1).shape[1]\n",
    "    plt.barh(range(n_features), model.feature_importances_, align='center', color='#C22F47')\n",
    "    plt.yticks(np.arange(n_features), por.columns)\n",
    "    plt.xlabel(\"Feature importance\")\n",
    "    plt.ylabel(\"Feature\")\n",
    "    plt.ylim(-1, n_features)\n",
    "    plt.title(\"Portuguese\")"
   ]
  },
  {
   "cell_type": "code",
   "execution_count": null,
   "metadata": {
    "scrolled": true
   },
   "outputs": [],
   "source": [
    "fig = plt.figure(figsize=(14,10))\n",
    "ax1 = plt.subplot(121)\n",
    "randomforest_m = RandomForestRegressor(max_depth=8).fit(mtrain_x, mtrain_y)\n",
    "plot_feature_importances_m (randomforest_m)\n",
    "\n",
    "ax1 = plt.subplot(122)\n",
    "randomforest_p = RandomForestRegressor(max_depth=18).fit(ptrain_x, ptrain_y)\n",
    "plot_feature_importances_p (randomforest_p)\n",
    "\n",
    "plt.tight_layout()"
   ]
  },
  {
   "cell_type": "markdown",
   "metadata": {},
   "source": [
    "# Linear Regression using all features"
   ]
  },
  {
   "cell_type": "code",
   "execution_count": null,
   "metadata": {},
   "outputs": [],
   "source": [
    "mpred=regressor.predict(mtest_x)"
   ]
  },
  {
   "cell_type": "code",
   "execution_count": null,
   "metadata": {},
   "outputs": [],
   "source": [
    "reg = pd.DataFrame({'Actual': mtest_y, 'Predicted': mpred})\n",
    "reg"
   ]
  },
  {
   "cell_type": "code",
   "execution_count": null,
   "metadata": {},
   "outputs": [],
   "source": [
    "df = reg.head(30)\n",
    "df.plot(kind='bar',figsize=(10,8))\n",
    "plt.grid(which='major', linestyle='-', linewidth='0.5', color='green')\n",
    "plt.grid(which='minor', linestyle=':', linewidth='0.5', color='black')\n",
    "plt.show()"
   ]
  },
  {
   "cell_type": "code",
   "execution_count": null,
   "metadata": {},
   "outputs": [],
   "source": [
    "print('Mean Absolute Error:', metrics.mean_absolute_error(mtest_y, mpred))  \n",
    "print('Mean Squared Error:', metrics.mean_squared_error(mtest_y, mpred))  \n",
    "print('Root Mean Squared Error:', np.sqrt(metrics.mean_squared_error(mtest_y, mpred)))"
   ]
  }
 ],
 "metadata": {
  "kernelspec": {
   "display_name": "Python 3",
   "language": "python",
   "name": "python3"
  },
  "language_info": {
   "codemirror_mode": {
    "name": "ipython",
    "version": 3
   },
   "file_extension": ".py",
   "mimetype": "text/x-python",
   "name": "python",
   "nbconvert_exporter": "python",
   "pygments_lexer": "ipython3",
   "version": "3.7.6"
  }
 },
 "nbformat": 4,
 "nbformat_minor": 4
}
